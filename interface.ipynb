{
 "cells": [
  {
   "cell_type": "markdown",
   "metadata": {},
   "source": [
    "### Installation"
   ]
  },
  {
   "cell_type": "code",
   "execution_count": 1,
   "metadata": {},
   "outputs": [
    {
     "name": "stdout",
     "output_type": "stream",
     "text": [
      "Defaulting to user installation because normal site-packages is not writeable\n",
      "Requirement already satisfied: torch in /home/anton/.local/lib/python3.10/site-packages (2.1.1)\n",
      "Requirement already satisfied: torchvision in /home/anton/.local/lib/python3.10/site-packages (0.16.1)\n",
      "Requirement already satisfied: nvidia-cuda-cupti-cu12==12.1.105 in /home/anton/.local/lib/python3.10/site-packages (from torch) (12.1.105)\n",
      "Requirement already satisfied: sympy in /home/anton/.local/lib/python3.10/site-packages (from torch) (1.12)\n",
      "Requirement already satisfied: nvidia-cuda-nvrtc-cu12==12.1.105 in /home/anton/.local/lib/python3.10/site-packages (from torch) (12.1.105)\n",
      "Requirement already satisfied: nvidia-cufft-cu12==11.0.2.54 in /home/anton/.local/lib/python3.10/site-packages (from torch) (11.0.2.54)\n",
      "Requirement already satisfied: nvidia-cuda-runtime-cu12==12.1.105 in /home/anton/.local/lib/python3.10/site-packages (from torch) (12.1.105)\n",
      "Requirement already satisfied: filelock in /home/anton/.local/lib/python3.10/site-packages (from torch) (3.13.1)\n",
      "Requirement already satisfied: nvidia-cusparse-cu12==12.1.0.106 in /home/anton/.local/lib/python3.10/site-packages (from torch) (12.1.0.106)\n",
      "Requirement already satisfied: networkx in /home/anton/.local/lib/python3.10/site-packages (from torch) (3.2.1)\n",
      "Requirement already satisfied: nvidia-nccl-cu12==2.18.1 in /home/anton/.local/lib/python3.10/site-packages (from torch) (2.18.1)\n",
      "Requirement already satisfied: nvidia-cublas-cu12==12.1.3.1 in /home/anton/.local/lib/python3.10/site-packages (from torch) (12.1.3.1)\n",
      "Requirement already satisfied: nvidia-nvtx-cu12==12.1.105 in /home/anton/.local/lib/python3.10/site-packages (from torch) (12.1.105)\n",
      "Requirement already satisfied: typing-extensions in /home/anton/.local/lib/python3.10/site-packages (from torch) (4.8.0)\n",
      "Requirement already satisfied: nvidia-cudnn-cu12==8.9.2.26 in /home/anton/.local/lib/python3.10/site-packages (from torch) (8.9.2.26)\n",
      "Requirement already satisfied: nvidia-curand-cu12==10.3.2.106 in /home/anton/.local/lib/python3.10/site-packages (from torch) (10.3.2.106)\n",
      "Requirement already satisfied: jinja2 in /home/anton/.local/lib/python3.10/site-packages (from torch) (3.1.2)\n",
      "Requirement already satisfied: fsspec in /home/anton/.local/lib/python3.10/site-packages (from torch) (2023.10.0)\n",
      "Requirement already satisfied: nvidia-cusolver-cu12==11.4.5.107 in /home/anton/.local/lib/python3.10/site-packages (from torch) (11.4.5.107)\n",
      "Requirement already satisfied: triton==2.1.0 in /home/anton/.local/lib/python3.10/site-packages (from torch) (2.1.0)\n",
      "Requirement already satisfied: nvidia-nvjitlink-cu12 in /home/anton/.local/lib/python3.10/site-packages (from nvidia-cusolver-cu12==11.4.5.107->torch) (12.3.101)\n",
      "Requirement already satisfied: requests in /home/anton/.local/lib/python3.10/site-packages (from torchvision) (2.31.0)\n",
      "Requirement already satisfied: pillow!=8.3.*,>=5.3.0 in /home/anton/.local/lib/python3.10/site-packages (from torchvision) (10.1.0)\n",
      "Requirement already satisfied: numpy in /home/anton/.local/lib/python3.10/site-packages (from torchvision) (1.26.2)\n",
      "Requirement already satisfied: MarkupSafe>=2.0 in /home/anton/.local/lib/python3.10/site-packages (from jinja2->torch) (2.1.3)\n",
      "Requirement already satisfied: certifi>=2017.4.17 in /home/anton/.local/lib/python3.10/site-packages (from requests->torchvision) (2023.11.17)\n",
      "Requirement already satisfied: urllib3<3,>=1.21.1 in /home/anton/.local/lib/python3.10/site-packages (from requests->torchvision) (2.1.0)\n",
      "Requirement already satisfied: charset-normalizer<4,>=2 in /home/anton/.local/lib/python3.10/site-packages (from requests->torchvision) (3.3.2)\n",
      "Requirement already satisfied: idna<4,>=2.5 in /home/anton/.local/lib/python3.10/site-packages (from requests->torchvision) (3.6)\n",
      "Requirement already satisfied: mpmath>=0.19 in /home/anton/.local/lib/python3.10/site-packages (from sympy->torch) (1.3.0)\n",
      "Defaulting to user installation because normal site-packages is not writeable\n",
      "Requirement already satisfied: gradio in /home/anton/.local/lib/python3.10/site-packages (4.7.1)\n",
      "Requirement already satisfied: huggingface-hub>=0.14.0 in /home/anton/.local/lib/python3.10/site-packages (from gradio) (0.19.4)\n",
      "Requirement already satisfied: markupsafe~=2.0 in /home/anton/.local/lib/python3.10/site-packages (from gradio) (2.1.3)\n",
      "Requirement already satisfied: gradio-client==0.7.0 in /home/anton/.local/lib/python3.10/site-packages (from gradio) (0.7.0)\n",
      "Requirement already satisfied: packaging in /home/anton/.local/lib/python3.10/site-packages (from gradio) (23.2)\n",
      "Requirement already satisfied: pydantic>=2.0 in /home/anton/.local/lib/python3.10/site-packages (from gradio) (2.5.2)\n",
      "Requirement already satisfied: httpx in /home/anton/.local/lib/python3.10/site-packages (from gradio) (0.25.2)\n",
      "Requirement already satisfied: numpy~=1.0 in /home/anton/.local/lib/python3.10/site-packages (from gradio) (1.26.2)\n",
      "Requirement already satisfied: orjson~=3.0 in /home/anton/.local/lib/python3.10/site-packages (from gradio) (3.9.10)\n",
      "Requirement already satisfied: pydub in /home/anton/.local/lib/python3.10/site-packages (from gradio) (0.25.1)\n",
      "Requirement already satisfied: jinja2<4.0 in /home/anton/.local/lib/python3.10/site-packages (from gradio) (3.1.2)\n",
      "Requirement already satisfied: uvicorn>=0.14.0 in /home/anton/.local/lib/python3.10/site-packages (from gradio) (0.24.0.post1)\n",
      "Requirement already satisfied: altair<6.0,>=4.2.0 in /home/anton/.local/lib/python3.10/site-packages (from gradio) (5.2.0)\n",
      "Requirement already satisfied: python-multipart in /home/anton/.local/lib/python3.10/site-packages (from gradio) (0.0.6)\n",
      "Requirement already satisfied: pyyaml<7.0,>=5.0 in /usr/lib/python3/dist-packages (from gradio) (5.4.1)\n",
      "Requirement already satisfied: pandas<3.0,>=1.0 in /home/anton/.local/lib/python3.10/site-packages (from gradio) (2.1.3)\n",
      "Requirement already satisfied: semantic-version~=2.0 in /home/anton/.local/lib/python3.10/site-packages (from gradio) (2.10.0)\n",
      "Requirement already satisfied: typing-extensions~=4.0 in /home/anton/.local/lib/python3.10/site-packages (from gradio) (4.8.0)\n",
      "Requirement already satisfied: aiofiles<24.0,>=22.0 in /home/anton/.local/lib/python3.10/site-packages (from gradio) (23.2.1)\n",
      "Requirement already satisfied: tomlkit==0.12.0 in /home/anton/.local/lib/python3.10/site-packages (from gradio) (0.12.0)\n",
      "Requirement already satisfied: requests~=2.0 in /home/anton/.local/lib/python3.10/site-packages (from gradio) (2.31.0)\n",
      "Requirement already satisfied: importlib-resources<7.0,>=1.3 in /home/anton/.local/lib/python3.10/site-packages (from gradio) (6.1.1)\n",
      "Requirement already satisfied: matplotlib~=3.0 in /home/anton/.local/lib/python3.10/site-packages (from gradio) (3.8.2)\n",
      "Requirement already satisfied: pillow<11.0,>=8.0 in /home/anton/.local/lib/python3.10/site-packages (from gradio) (10.1.0)\n",
      "Requirement already satisfied: fastapi in /home/anton/.local/lib/python3.10/site-packages (from gradio) (0.104.1)\n",
      "Requirement already satisfied: typer[all]<1.0,>=0.9 in /home/anton/.local/lib/python3.10/site-packages (from gradio) (0.9.0)\n",
      "Requirement already satisfied: ffmpy in /home/anton/.local/lib/python3.10/site-packages (from gradio) (0.3.1)\n",
      "Requirement already satisfied: fsspec in /home/anton/.local/lib/python3.10/site-packages (from gradio-client==0.7.0->gradio) (2023.10.0)\n",
      "Requirement already satisfied: websockets<12.0,>=10.0 in /home/anton/.local/lib/python3.10/site-packages (from gradio-client==0.7.0->gradio) (11.0.3)\n",
      "Requirement already satisfied: jsonschema>=3.0 in /home/anton/.local/lib/python3.10/site-packages (from altair<6.0,>=4.2.0->gradio) (4.20.0)\n",
      "Requirement already satisfied: toolz in /home/anton/.local/lib/python3.10/site-packages (from altair<6.0,>=4.2.0->gradio) (0.12.0)\n",
      "Requirement already satisfied: filelock in /home/anton/.local/lib/python3.10/site-packages (from huggingface-hub>=0.14.0->gradio) (3.13.1)\n",
      "Requirement already satisfied: tqdm>=4.42.1 in /home/anton/.local/lib/python3.10/site-packages (from huggingface-hub>=0.14.0->gradio) (4.66.1)\n",
      "Requirement already satisfied: cycler>=0.10 in /home/anton/.local/lib/python3.10/site-packages (from matplotlib~=3.0->gradio) (0.12.1)\n",
      "Requirement already satisfied: fonttools>=4.22.0 in /home/anton/.local/lib/python3.10/site-packages (from matplotlib~=3.0->gradio) (4.46.0)\n",
      "Requirement already satisfied: python-dateutil>=2.7 in /home/anton/.local/lib/python3.10/site-packages (from matplotlib~=3.0->gradio) (2.8.2)\n",
      "Requirement already satisfied: contourpy>=1.0.1 in /home/anton/.local/lib/python3.10/site-packages (from matplotlib~=3.0->gradio) (1.2.0)\n",
      "Requirement already satisfied: kiwisolver>=1.3.1 in /home/anton/.local/lib/python3.10/site-packages (from matplotlib~=3.0->gradio) (1.4.5)\n",
      "Requirement already satisfied: pyparsing>=2.3.1 in /usr/lib/python3/dist-packages (from matplotlib~=3.0->gradio) (2.4.7)\n",
      "Requirement already satisfied: tzdata>=2022.1 in /home/anton/.local/lib/python3.10/site-packages (from pandas<3.0,>=1.0->gradio) (2023.3)\n",
      "Requirement already satisfied: pytz>=2020.1 in /home/anton/.local/lib/python3.10/site-packages (from pandas<3.0,>=1.0->gradio) (2023.3.post1)\n",
      "Requirement already satisfied: pydantic-core==2.14.5 in /home/anton/.local/lib/python3.10/site-packages (from pydantic>=2.0->gradio) (2.14.5)\n",
      "Requirement already satisfied: annotated-types>=0.4.0 in /home/anton/.local/lib/python3.10/site-packages (from pydantic>=2.0->gradio) (0.6.0)\n",
      "Requirement already satisfied: idna<4,>=2.5 in /home/anton/.local/lib/python3.10/site-packages (from requests~=2.0->gradio) (3.6)\n",
      "Requirement already satisfied: urllib3<3,>=1.21.1 in /home/anton/.local/lib/python3.10/site-packages (from requests~=2.0->gradio) (2.1.0)\n",
      "Requirement already satisfied: certifi>=2017.4.17 in /home/anton/.local/lib/python3.10/site-packages (from requests~=2.0->gradio) (2023.11.17)\n",
      "Requirement already satisfied: charset-normalizer<4,>=2 in /home/anton/.local/lib/python3.10/site-packages (from requests~=2.0->gradio) (3.3.2)\n",
      "Requirement already satisfied: click<9.0.0,>=7.1.1 in /home/anton/.local/lib/python3.10/site-packages (from typer[all]<1.0,>=0.9->gradio) (8.1.7)\n",
      "Requirement already satisfied: rich<14.0.0,>=10.11.0 in /home/anton/.local/lib/python3.10/site-packages (from typer[all]<1.0,>=0.9->gradio) (13.7.0)\n",
      "Requirement already satisfied: shellingham<2.0.0,>=1.3.0 in /home/anton/.local/lib/python3.10/site-packages (from typer[all]<1.0,>=0.9->gradio) (1.5.4)\n",
      "Requirement already satisfied: colorama<0.5.0,>=0.4.3 in /home/anton/.local/lib/python3.10/site-packages (from typer[all]<1.0,>=0.9->gradio) (0.4.6)\n",
      "Requirement already satisfied: h11>=0.8 in /home/anton/.local/lib/python3.10/site-packages (from uvicorn>=0.14.0->gradio) (0.14.0)\n",
      "Requirement already satisfied: anyio<4.0.0,>=3.7.1 in /home/anton/.local/lib/python3.10/site-packages (from fastapi->gradio) (3.7.1)\n",
      "Requirement already satisfied: starlette<0.28.0,>=0.27.0 in /home/anton/.local/lib/python3.10/site-packages (from fastapi->gradio) (0.27.0)\n",
      "Requirement already satisfied: sniffio in /home/anton/.local/lib/python3.10/site-packages (from httpx->gradio) (1.3.0)\n",
      "Requirement already satisfied: httpcore==1.* in /home/anton/.local/lib/python3.10/site-packages (from httpx->gradio) (1.0.2)\n",
      "Requirement already satisfied: exceptiongroup in /home/anton/.local/lib/python3.10/site-packages (from anyio<4.0.0,>=3.7.1->fastapi->gradio) (1.2.0)\n",
      "Requirement already satisfied: jsonschema-specifications>=2023.03.6 in /home/anton/.local/lib/python3.10/site-packages (from jsonschema>=3.0->altair<6.0,>=4.2.0->gradio) (2023.11.2)\n",
      "Requirement already satisfied: referencing>=0.28.4 in /home/anton/.local/lib/python3.10/site-packages (from jsonschema>=3.0->altair<6.0,>=4.2.0->gradio) (0.31.1)\n",
      "Requirement already satisfied: attrs>=22.2.0 in /home/anton/.local/lib/python3.10/site-packages (from jsonschema>=3.0->altair<6.0,>=4.2.0->gradio) (23.1.0)\n",
      "Requirement already satisfied: rpds-py>=0.7.1 in /home/anton/.local/lib/python3.10/site-packages (from jsonschema>=3.0->altair<6.0,>=4.2.0->gradio) (0.13.2)\n",
      "Requirement already satisfied: six>=1.5 in /usr/lib/python3/dist-packages (from python-dateutil>=2.7->matplotlib~=3.0->gradio) (1.16.0)\n",
      "Requirement already satisfied: markdown-it-py>=2.2.0 in /home/anton/.local/lib/python3.10/site-packages (from rich<14.0.0,>=10.11.0->typer[all]<1.0,>=0.9->gradio) (3.0.0)\n",
      "Requirement already satisfied: pygments<3.0.0,>=2.13.0 in /home/anton/.local/lib/python3.10/site-packages (from rich<14.0.0,>=10.11.0->typer[all]<1.0,>=0.9->gradio) (2.17.2)\n",
      "Requirement already satisfied: mdurl~=0.1 in /home/anton/.local/lib/python3.10/site-packages (from markdown-it-py>=2.2.0->rich<14.0.0,>=10.11.0->typer[all]<1.0,>=0.9->gradio) (0.1.2)\n"
     ]
    }
   ],
   "source": [
    "# install dependencies\n",
    "!pip install torch torchvision\n",
    "!pip install gradio\n",
    "\n",
    "# torchvision is a sub-library including several utilities specific to computer vision"
   ]
  },
  {
   "cell_type": "code",
   "execution_count": 2,
   "metadata": {},
   "outputs": [
    {
     "name": "stderr",
     "output_type": "stream",
     "text": [
      "/home/anton/.local/lib/python3.10/site-packages/tqdm/auto.py:21: TqdmWarning: IProgress not found. Please update jupyter and ipywidgets. See https://ipywidgets.readthedocs.io/en/stable/user_install.html\n",
      "  from .autonotebook import tqdm as notebook_tqdm\n"
     ]
    }
   ],
   "source": [
    "# import dependencies\n",
    "import torch\n",
    "import torchvision.models as models\n",
    "import gradio as gr"
   ]
  },
  {
   "cell_type": "code",
   "execution_count": 3,
   "metadata": {},
   "outputs": [],
   "source": [
    "# load model\n",
    "learn = torch.load('/home/anton/repos/lumos-mri/model.pkl')"
   ]
  },
  {
   "cell_type": "code",
   "execution_count": 5,
   "metadata": {},
   "outputs": [
    {
     "ename": "AttributeError",
     "evalue": "'ResNet' object has no attribute 'dls'",
     "output_type": "error",
     "traceback": [
      "\u001b[0;31m---------------------------------------------------------------------------\u001b[0m",
      "\u001b[0;31mAttributeError\u001b[0m                            Traceback (most recent call last)",
      "\u001b[1;32m/home/anton/repos/lumos-mri/interface.ipynb Cell 5\u001b[0m line \u001b[0;36m2\n\u001b[1;32m      <a href='vscode-notebook-cell://wsl%2Bubuntu-22.04/home/anton/repos/lumos-mri/interface.ipynb#W4sdnNjb2RlLXJlbW90ZQ%3D%3D?line=0'>1</a>\u001b[0m \u001b[39m# define prediction function for model\u001b[39;00m\n\u001b[0;32m----> <a href='vscode-notebook-cell://wsl%2Bubuntu-22.04/home/anton/repos/lumos-mri/interface.ipynb#W4sdnNjb2RlLXJlbW90ZQ%3D%3D?line=1'>2</a>\u001b[0m labels \u001b[39m=\u001b[39m learn\u001b[39m.\u001b[39;49mdls\u001b[39m.\u001b[39mvocab\n\u001b[1;32m      <a href='vscode-notebook-cell://wsl%2Bubuntu-22.04/home/anton/repos/lumos-mri/interface.ipynb#W4sdnNjb2RlLXJlbW90ZQ%3D%3D?line=2'>3</a>\u001b[0m \u001b[39mdef\u001b[39;00m \u001b[39mpredict\u001b[39m(img):\n\u001b[1;32m      <a href='vscode-notebook-cell://wsl%2Bubuntu-22.04/home/anton/repos/lumos-mri/interface.ipynb#W4sdnNjb2RlLXJlbW90ZQ%3D%3D?line=3'>4</a>\u001b[0m     img \u001b[39m=\u001b[39m PILImage\u001b[39m.\u001b[39mcreate(img)\n",
      "File \u001b[0;32m~/.local/lib/python3.10/site-packages/torch/nn/modules/module.py:1695\u001b[0m, in \u001b[0;36mModule.__getattr__\u001b[0;34m(self, name)\u001b[0m\n\u001b[1;32m   1693\u001b[0m     \u001b[39mif\u001b[39;00m name \u001b[39min\u001b[39;00m modules:\n\u001b[1;32m   1694\u001b[0m         \u001b[39mreturn\u001b[39;00m modules[name]\n\u001b[0;32m-> 1695\u001b[0m \u001b[39mraise\u001b[39;00m \u001b[39mAttributeError\u001b[39;00m(\u001b[39mf\u001b[39m\u001b[39m\"\u001b[39m\u001b[39m'\u001b[39m\u001b[39m{\u001b[39;00m\u001b[39mtype\u001b[39m(\u001b[39mself\u001b[39m)\u001b[39m.\u001b[39m\u001b[39m__name__\u001b[39m\u001b[39m}\u001b[39;00m\u001b[39m'\u001b[39m\u001b[39m object has no attribute \u001b[39m\u001b[39m'\u001b[39m\u001b[39m{\u001b[39;00mname\u001b[39m}\u001b[39;00m\u001b[39m'\u001b[39m\u001b[39m\"\u001b[39m)\n",
      "\u001b[0;31mAttributeError\u001b[0m: 'ResNet' object has no attribute 'dls'"
     ]
    }
   ],
   "source": [
    "# define prediction function for model\n",
    "labels = learn.dls.vocab\n",
    "def predict(img):\n",
    "    img = PILImage.create(img)\n",
    "    pred,pred_idx,probs = learn.predict(img)\n",
    "    return {labels[i]: float(probs[i]) for i in range(len(labels))}"
   ]
  },
  {
   "cell_type": "code",
   "execution_count": null,
   "metadata": {},
   "outputs": [],
   "source": [
    "# create gradio interface\n",
    "\n",
    "gr.Interface(fn=predict, inputs=gr.inputs.Image(shape=(512, 512)), outputs=gr.outputs.Label(num_top_classes=3)).launch(share=True)\n",
    "\n",
    "# the inputs and outputs of the interface must match those of the model"
   ]
  },
  {
   "attachments": {},
   "cell_type": "markdown",
   "metadata": {},
   "source": [
    "### Resources\n",
    "\n",
    "- PyTorch tutorial: https://www.digitalocean.com/community/tutorials/how-to-install-and-use-pytorch\n",
    "- Gradio tutorial: https://www.tanishq.ai/blog/posts/2021-11-16-gradio-huggingface.html."
   ]
  }
 ],
 "metadata": {
  "kernelspec": {
   "display_name": "Python 3",
   "language": "python",
   "name": "python3"
  },
  "language_info": {
   "codemirror_mode": {
    "name": "ipython",
    "version": 3
   },
   "file_extension": ".py",
   "mimetype": "text/x-python",
   "name": "python",
   "nbconvert_exporter": "python",
   "pygments_lexer": "ipython3",
   "version": "3.10.12"
  },
  "orig_nbformat": 4
 },
 "nbformat": 4,
 "nbformat_minor": 2
}
